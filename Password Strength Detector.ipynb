{
 "cells": [
  {
   "cell_type": "code",
   "execution_count": 1,
   "id": "01f2b557",
   "metadata": {},
   "outputs": [
    {
     "name": "stdout",
     "output_type": "stream",
     "text": [
      "Enter a password: HelloWorld\n",
      "Weak: Password should include uppercase, lowercase, and digits.\n"
     ]
    }
   ],
   "source": [
    "import re\n",
    "\n",
    "def check_password_strength(password):\n",
    "    \n",
    "    if len(password) < 8:\n",
    "        return \"Weak: Password should be at least 8 characters long.\"\n",
    "\n",
    "   \n",
    "    if not re.search(r'[A-Z]', password) or \\\n",
    "       not re.search(r'[a-z]', password) or \\\n",
    "       not re.search(r'\\d', password):\n",
    "        return \"Weak: Password should include uppercase, lowercase, and digits.\"\n",
    "\n",
    "   \n",
    "    if not re.search(r'[!@#$%^&*(),.?\":{}|<>]', password):\n",
    "        return \"Moderate: Password should include special characters.\"\n",
    "\n",
    "    return \"Strong: Password meets the criteria.\"\n",
    "\n",
    "\n",
    "password = input(\"Enter a password: \")\n",
    "result = check_password_strength(password)\n",
    "print(result)\n"
   ]
  },
  {
   "cell_type": "code",
   "execution_count": null,
   "id": "1d378e0b",
   "metadata": {},
   "outputs": [],
   "source": []
  }
 ],
 "metadata": {
  "kernelspec": {
   "display_name": "Python 3 (ipykernel)",
   "language": "python",
   "name": "python3"
  },
  "language_info": {
   "codemirror_mode": {
    "name": "ipython",
    "version": 3
   },
   "file_extension": ".py",
   "mimetype": "text/x-python",
   "name": "python",
   "nbconvert_exporter": "python",
   "pygments_lexer": "ipython3",
   "version": "3.9.13"
  }
 },
 "nbformat": 4,
 "nbformat_minor": 5
}
